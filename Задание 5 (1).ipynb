{
 "cells": [
  {
   "cell_type": "markdown",
   "metadata": {},
   "source": [
    "## Описание задачи"
   ]
  },
  {
   "cell_type": "markdown",
   "metadata": {},
   "source": [
    "В таблице представлены средние значения количества слов $y$, которыми владеет ребенок в заданном возрасте $t$.\n",
    "```\n",
    "  t        y\n",
    "---------------  \n",
    " 1.0        3\n",
    " 1.5       22\n",
    " 2.0      272\n",
    " 2.5      446\n",
    " 3.0      896\n",
    " 3.5     1222\n",
    " 4.0     1540\n",
    " 4.5     1870\n",
    " 5.0     2072\n",
    " 6.0     2562\n",
    "```\n",
    "\n",
    "Построить линейную $y = \\beta_0 + \\beta_1 x$ и две логистические модели: \n",
    "$$\n",
    "y = \\frac{\\beta_0}{1 + \\beta_1 e^{-\\beta_2 t}},\n",
    "\\qquad\n",
    "y = \\frac{\\beta_0}{1 + \\beta_1 e^{-\\beta_2 (t - t_0)}},\n",
    "$$\n",
    "аппроксимирующие данные.    \n",
    "Найти общую ошибку в каждом из этих случаев и сравнить результаты."
   ]
  },
  {
   "cell_type": "markdown",
   "metadata": {},
   "source": [
    "### Импортируем необходимые модули"
   ]
  },
  {
   "cell_type": "code",
   "execution_count": 1,
   "metadata": {},
   "outputs": [],
   "source": [
    "import numpy as np # Библиотека для работы с массивами \n",
    "import matplotlib.pyplot as plt # Научная графика\n",
    "%matplotlib inline \n",
    "# Магический метод, позволяющий выводить графики в браузере\n",
    "from scipy import linalg # Модуль операций линейной алгебры"
   ]
  },
  {
   "cell_type": "markdown",
   "metadata": {},
   "source": [
    "Внесем исходные данные задачи в массимы модуля `numpy`"
   ]
  },
  {
   "cell_type": "code",
   "execution_count": 2,
   "metadata": {},
   "outputs": [],
   "source": [
    "t = np.array([1, 1.5, 2, 2.5, 3, 3.5, 4, 4.5, 5, 6])\n",
    "y = np.array([3, 22, 272, 446, 896, 1222, 1540, 1870, 2072, 2562])"
   ]
  },
  {
   "cell_type": "markdown",
   "metadata": {},
   "source": [
    "Отобразим исходные точки на графике"
   ]
  },
  {
   "cell_type": "code",
   "execution_count": 3,
   "metadata": {},
   "outputs": [
    {
     "data": {
      "image/png": "[encoded data removed]",
      "text/plain": [
       "<Figure size 720x432 with 1 Axes>"
      ]
     },
     "metadata": {
      "needs_background": "light"
     },
     "output_type": "display_data"
    }
   ],
   "source": [
    "plt.figure(figsize=(10, 6)) # задаем размер графика\n",
    "plt.plot(t, y, 'o', color='orange'); # Символ \";\" позволяет построить только график без вывода дополнительной информации\n",
    "plt.grid() # выводим сетку\n",
    "plt.xlabel(\"Возраст\"); # подпись оси X\n",
    "plt.ylabel(\"Кол-во слов\"); # подпись оси Y"
   ]
  },
  {
   "cell_type": "markdown",
   "metadata": {},
   "source": [
    "## Построение линейной модели аппроксимации"
   ]
  },
  {
   "cell_type": "markdown",
   "metadata": {},
   "source": [
    "Для нахождения коэффициентов линейной регрессии $\\beta_0$ и $\\beta_1$ нужно решить уравнение в матричном виде\n",
    "$$\n",
    "(X^{\\rm T} X)\\, \\beta = X^{\\rm T} t,\n",
    "$$\n",
    "где $X$, $t$ и $\\beta$ - матрицы вида: $$\n",
    "X = \n",
    "\\left(\n",
    "\\begin{array}{cc}\n",
    "1 & x_1 \\\\\n",
    "1 & x_2 \\\\\n",
    "\\vdots & \\vdots \\\\\n",
    "1 & x_m \\\\\n",
    "\\end{array}\n",
    "\\right),\n",
    "\\qquad\n",
    "t =\n",
    "\\left(\n",
    "\\begin{array}{c}\n",
    "t_1 \\\\\n",
    "t_2 \\\\\n",
    "\\vdots \\\\\n",
    "t_m \\\\\n",
    "\\end{array}\n",
    "\\right),\n",
    "\\qquad\n",
    "\\beta =\n",
    "\\left(\n",
    "\\begin{array}{c}\n",
    "\\beta_0 \\\\\n",
    "\\beta_1 \\\\\n",
    "\\end{array}\n",
    "\\right),\n",
    "$$"
   ]
  },
  {
   "cell_type": "code",
   "execution_count": 4,
   "metadata": {},
   "outputs": [
    {
     "name": "stdout",
     "output_type": "stream",
     "text": [
      "Бета 0 = -763.8571428571429\n",
      "Бета 1 = 561.9264069264069\n"
     ]
    }
   ],
   "source": [
    "X = np.stack((np.ones(len(t)), t)).T # из двух строк транспонируем матрицу, приводя к нужному виду\n",
    "beta = np.linalg.solve(X.T@X, X.T@y) # знак \"@\" - векторное умножение матриц \n",
    "print(f'Бета 0 = {beta[0]}')\n",
    "print(f'Бета 1 = {beta[1]}')"
   ]
  },
  {
   "cell_type": "code",
   "execution_count": 5,
   "metadata": {},
   "outputs": [
    {
     "data": {
      "image/png": "[encoded data removed]",
      "text/plain": [
       "<Figure size 720x432 with 1 Axes>"
      ]
     },
     "metadata": {
      "needs_background": "light"
     },
     "output_type": "display_data"
    }
   ],
   "source": [
    "plt.figure(figsize=(10, 6))\n",
    "plt.plot(t, X@beta, color='blue', label='Линейная регрессия'); # график линейной зависимости\n",
    "plt.plot(t, y, 'o', color='orange'); # исходный набор точек\n",
    "plt.grid()\n",
    "plt.xlabel(\"Возраст\");\n",
    "plt.ylabel(\"Кол-во слов\");\n",
    "plt.legend(shadow=True);"
   ]
  },
  {
   "cell_type": "markdown",
   "metadata": {},
   "source": [
    "Задачу линейной регрессии можно решить функцией `lstsq`, которая также может найти сумму квадратов отклонений"
   ]
  },
  {
   "cell_type": "code",
   "execution_count": 60,
   "metadata": {},
   "outputs": [
    {
     "name": "stdout",
     "output_type": "stream",
     "text": [
      "Бета0 и бета1 = [-763.85714286  561.92640693]\n",
      "Сумма квадаратов отклонений = 109032.77489177503\n"
     ]
    }
   ],
   "source": [
    "beta, residuals, rank, sv = linalg.lstsq(X, y)\n",
    "print(f'Бета0 и бета1 = {beta}')\n",
    "print(f'Сумма квадаратов отклонений = {residuals}')"
   ]
  },
  {
   "cell_type": "markdown",
   "metadata": {},
   "source": [
    "## Построение логистических функций"
   ]
  },
  {
   "cell_type": "markdown",
   "metadata": {},
   "source": [
    "Доимпортируем нужный метод"
   ]
  },
  {
   "cell_type": "code",
   "execution_count": 7,
   "metadata": {},
   "outputs": [],
   "source": [
    "from scipy.optimize import curve_fit"
   ]
  },
  {
   "cell_type": "markdown",
   "metadata": {},
   "source": [
    "Построить нужно следующие модели:\n",
    "$$\n",
    "y = \\frac{\\beta_0}{1 + \\beta_1 e^{-\\beta_2 t}},\n",
    "\\qquad\n",
    "y = \\frac{\\beta_0}{1 + \\beta_1 e^{-\\beta_2 (t - t_0)}},\n",
    "$$"
   ]
  },
  {
   "cell_type": "code",
   "execution_count": 8,
   "metadata": {},
   "outputs": [],
   "source": [
    "t = np.array([1, 1.5, 2, 2.5, 3, 3.5, 4, 4.5, 5, 6])\n",
    "y = np.array([3, 22, 272, 446, 896, 1222, 1540, 1870, 2072, 2562])"
   ]
  },
  {
   "cell_type": "code",
   "execution_count": 9,
   "metadata": {},
   "outputs": [],
   "source": [
    "def logistic_1(t, beta_0, beta_1, beta_2):\n",
    "    return beta_0 / (1 + beta_1 * np.exp(-1 * beta_2 * t))\n",
    "\n",
    "def logistic_2(t, beta_0, beta_1, beta_2, t_0):\n",
    "    return beta_0 / (1 + beta_1 * np.exp(-beta_2 * t + beta_2*t_0))"
   ]
  },
  {
   "cell_type": "code",
   "execution_count": 45,
   "metadata": {},
   "outputs": [
    {
     "name": "stdout",
     "output_type": "stream",
     "text": [
      "[2.61269647e+03 9.57686840e+01 1.23640565e+00]\n"
     ]
    }
   ],
   "source": [
    "args, _ = curve_fit(logistic_1, t, y, method='trf', bounds=(-np.inf, [3000., 200., 3.]))\n",
    "beta_01, beta_11, beta_21 = args[0], args[1], args[2] \n",
    "print(args)\n",
    "y_fit1 = logistic_1(t, beta_01, beta_11, beta_21)\n"
   ]
  },
  {
   "cell_type": "code",
   "execution_count": 57,
   "metadata": {},
   "outputs": [
    {
     "name": "stdout",
     "output_type": "stream",
     "text": [
      "[ 2.61269599e+03  1.03617402e+02  1.23640648e+00 -6.37069290e-02]\n"
     ]
    }
   ],
   "source": [
    "args1, _ = curve_fit(logistic_2, t, y, method='trf', bounds=(-np.inf, [3000., 200., 3., 1])) \n",
    "beta_02, beta_12, beta_22, t_02 = args1[0], args1[1], args1[2], args1[3]\n",
    "print(args1)\n",
    "y_fit2 = logistic_2(t, beta_02, beta_12, beta_22, t_02)"
   ]
  },
  {
   "cell_type": "code",
   "execution_count": 58,
   "metadata": {},
   "outputs": [
    {
     "data": {
      "image/png": "[encoded data removed]",
      "text/plain": [
       "<Figure size 720x432 with 1 Axes>"
      ]
     },
     "metadata": {
      "needs_background": "light"
     },
     "output_type": "display_data"
    }
   ],
   "source": [
    "plt.figure(figsize=(10, 6))\n",
    "plt.plot(t, y, 'o', color='orange')\n",
    "plt.plot(t, y_fit1, color='black', label='Логистическая ф-ция с 3 коэф-ми')\n",
    "plt.plot(t, y_fit2, marker='*', label='Логистическая ф-ция с 4 коэф-ми', linestyle='dashed')\n",
    "plt.xlabel(\"Возраст\");\n",
    "plt.ylabel(\"Кол-во слов\");\n",
    "plt.grid()\n",
    "plt.legend(shadow=True);"
   ]
  },
  {
   "cell_type": "markdown",
   "metadata": {},
   "source": [
    "Посчитаем сумму квадратов отклонений двух этих функций "
   ]
  },
  {
   "cell_type": "code",
   "execution_count": 59,
   "metadata": {},
   "outputs": [
    {
     "name": "stdout",
     "output_type": "stream",
     "text": [
      "Для логистической функции с тремя коэффициентами общая ошибка = 69718.30187994588\n",
      "Для логистической функции с четырьмя коэффициентами общая ошибка = 69718.30188159796\n"
     ]
    }
   ],
   "source": [
    "print(f'Для логистической функции с тремя коэффициентами общая ошибка = {sum((y_fit1 - y) ** 2)}')\n",
    "print(f'Для логистической функции с четырьмя коэффициентами общая ошибка = {sum((y_fit2 - y) ** 2)}')"
   ]
  },
  {
   "cell_type": "markdown",
   "metadata": {},
   "source": [
    "## Выводы"
   ]
  },
  {
   "cell_type": "markdown",
   "metadata": {},
   "source": [
    "Сравнивая аппрокимацию данных для линейной функцией и логистической сильно лучший результат дает второй вариант, более чем в 1,5 раза точнее результаты. \n",
    "В сравнении логистических функций с тремя неизвестными коэффициентами и четырьмя разница почти не наблюдается, только в пятом знаке после запятой"
   ]
  },
  {
   "cell_type": "code",
   "execution_count": null,
   "metadata": {},
   "outputs": [],
   "source": []
  }
 ],
 "metadata": {
  "kernelspec": {
   "display_name": "Python 3",
   "language": "python",
   "name": "python3"
  },
  "language_info": {
   "codemirror_mode": {
    "name": "ipython",
    "version": 3
   },
   "file_extension": ".py",
   "mimetype": "text/x-python",
   "name": "python",
   "nbconvert_exporter": "python",
   "pygments_lexer": "ipython3",
   "version": "3.8.3"
  }
 },
 "nbformat": 4,
 "nbformat_minor": 4
}
